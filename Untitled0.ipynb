{
  "nbformat": 4,
  "nbformat_minor": 0,
  "metadata": {
    "colab": {
      "provenance": [],
      "authorship_tag": "ABX9TyPrd8FKkRm2haTB6u1jLljK",
      "include_colab_link": true
    },
    "kernelspec": {
      "name": "python3",
      "display_name": "Python 3"
    },
    "language_info": {
      "name": "python"
    }
  },
  "cells": [
    {
      "cell_type": "markdown",
      "metadata": {
        "id": "view-in-github",
        "colab_type": "text"
      },
      "source": [
        "<a href=\"https://colab.research.google.com/github/naseri2023/naseri/blob/main/Untitled0.ipynb\" target=\"_parent\"><img src=\"https://colab.research.google.com/assets/colab-badge.svg\" alt=\"Open In Colab\"/></a>"
      ]
    },
    {
      "cell_type": "markdown",
      "source": [
        "To Make a map by foluim and make distance between two countries"
      ],
      "metadata": {
        "id": "_5eQTCijZuEQ"
      }
    },
    {
      "cell_type": "code",
      "execution_count": null,
      "metadata": {
        "id": "QKxzHxEVq2ba"
      },
      "outputs": [],
      "source": [
        "import requests\n",
        "from pprint import pprint"
      ]
    },
    {
      "cell_type": "code",
      "source": [
        "Base_url=\"https://nominatim.openstreetmap.org/search?format=json\""
      ],
      "metadata": {
        "id": "9NvFYbYRrRrO"
      },
      "execution_count": null,
      "outputs": []
    },
    {
      "cell_type": "code",
      "source": [
        "postcode=\"G42 9AY\"\n",
        "response=requests.get(f\"{Base_url}&postalcode={postcode}\")\n",
        "data=response.json()\n"
      ],
      "metadata": {
        "id": "OXw1ErBUriAx"
      },
      "execution_count": null,
      "outputs": []
    },
    {
      "cell_type": "code",
      "source": [
        "latitude=data[0].get(\"lat\")\n",
        "longitude=data[0].get(\"lon\")\n",
        "(latitude,longitude)"
      ],
      "metadata": {
        "id": "el4wgmnPuONc",
        "colab": {
          "base_uri": "https://localhost:8080/"
        },
        "outputId": "a47e2db5-0402-473c-8e30-f4e61f8466ac"
      },
      "execution_count": null,
      "outputs": [
        {
          "output_type": "execute_result",
          "data": {
            "text/plain": [
              "('55.82523', '-4.2532')"
            ]
          },
          "metadata": {},
          "execution_count": 5
        }
      ]
    },
    {
      "cell_type": "code",
      "source": [
        "zipcode=\"2601\"\n",
        "response=requests.get(f\"{Base_url}&postalcode={zipcode}&country=italia\")\n",
        "data=response.json()\n",
        "latitude2=data[0].get(\"lat\")\n",
        "longitude2=data[0].get(\"lon\")\n",
        "(latitude2,longitude2)"
      ],
      "metadata": {
        "id": "9IUz40Omx7ps",
        "colab": {
          "base_uri": "https://localhost:8080/"
        },
        "outputId": "8536bb56-b1a3-45bf-891b-10ff4d1053cb"
      },
      "execution_count": null,
      "outputs": [
        {
          "output_type": "execute_result",
          "data": {
            "text/plain": [
              "('47.89580775', '16.245415489000663')"
            ]
          },
          "metadata": {},
          "execution_count": 6
        }
      ]
    },
    {
      "cell_type": "code",
      "source": [
        "import folium\n",
        "location=float(latitude),float(longitude)\n",
        "location2=float(latitude2),float(longitude2)\n",
        "m=folium.Map(location=location2,width=900,height=400)\n",
        "folium.Marker(location2,popup=\"Italian postcode\").add_to(m)\n",
        "folium.Marker(location,popup=\"Glasgow postcode\").add_to(m)\n",
        "folium.PolyLine((location,location2)).add_to(m)\n",
        "m"
      ],
      "metadata": {
        "id": "0vCsgLU34uFx",
        "colab": {
          "base_uri": "https://localhost:8080/",
          "height": 873
        },
        "outputId": "26ba957a-51d2-4c2e-b442-ba60f9a369b1"
      },
      "execution_count": null,
      "outputs": [
        {
          "output_type": "execute_result",
          "data": {
            "text/plain": [
              "<folium.folium.Map at 0x7e3834cc9ea0>"
            ],
            "text/html": [
              "<div style=\"width:100%;\"><div style=\"position:relative;width:100%;height:0;padding-bottom:60%;\"><span style=\"color:#565656\">Make this Notebook Trusted to load map: File -> Trust Notebook</span><iframe srcdoc=\"&lt;!DOCTYPE html&gt;\n",
              "&lt;html&gt;\n",
              "&lt;head&gt;\n",
              "    \n",
              "    &lt;meta http-equiv=&quot;content-type&quot; content=&quot;text/html; charset=UTF-8&quot; /&gt;\n",
              "    \n",
              "        &lt;script&gt;\n",
              "            L_NO_TOUCH = false;\n",
              "            L_DISABLE_3D = false;\n",
              "        &lt;/script&gt;\n",
              "    \n",
              "    &lt;style&gt;html, body {width: 100%;height: 100%;margin: 0;padding: 0;}&lt;/style&gt;\n",
              "    &lt;style&gt;#map {position:absolute;top:0;bottom:0;right:0;left:0;}&lt;/style&gt;\n",
              "    &lt;script src=&quot;https://cdn.jsdelivr.net/npm/leaflet@1.9.3/dist/leaflet.js&quot;&gt;&lt;/script&gt;\n",
              "    &lt;script src=&quot;https://code.jquery.com/jquery-1.12.4.min.js&quot;&gt;&lt;/script&gt;\n",
              "    &lt;script src=&quot;https://cdn.jsdelivr.net/npm/bootstrap@5.2.2/dist/js/bootstrap.bundle.min.js&quot;&gt;&lt;/script&gt;\n",
              "    &lt;script src=&quot;https://cdnjs.cloudflare.com/ajax/libs/Leaflet.awesome-markers/2.0.2/leaflet.awesome-markers.js&quot;&gt;&lt;/script&gt;\n",
              "    &lt;link rel=&quot;stylesheet&quot; href=&quot;https://cdn.jsdelivr.net/npm/leaflet@1.9.3/dist/leaflet.css&quot;/&gt;\n",
              "    &lt;link rel=&quot;stylesheet&quot; href=&quot;https://cdn.jsdelivr.net/npm/bootstrap@5.2.2/dist/css/bootstrap.min.css&quot;/&gt;\n",
              "    &lt;link rel=&quot;stylesheet&quot; href=&quot;https://netdna.bootstrapcdn.com/bootstrap/3.0.0/css/bootstrap.min.css&quot;/&gt;\n",
              "    &lt;link rel=&quot;stylesheet&quot; href=&quot;https://cdn.jsdelivr.net/npm/@fortawesome/fontawesome-free@6.2.0/css/all.min.css&quot;/&gt;\n",
              "    &lt;link rel=&quot;stylesheet&quot; href=&quot;https://cdnjs.cloudflare.com/ajax/libs/Leaflet.awesome-markers/2.0.2/leaflet.awesome-markers.css&quot;/&gt;\n",
              "    &lt;link rel=&quot;stylesheet&quot; href=&quot;https://cdn.jsdelivr.net/gh/python-visualization/folium/folium/templates/leaflet.awesome.rotate.min.css&quot;/&gt;\n",
              "    \n",
              "            &lt;meta name=&quot;viewport&quot; content=&quot;width=device-width,\n",
              "                initial-scale=1.0, maximum-scale=1.0, user-scalable=no&quot; /&gt;\n",
              "            &lt;style&gt;\n",
              "                #map_847ca0ce2679f7ca2ec0f59fb6f2dbea {\n",
              "                    position: relative;\n",
              "                    width: 900.0px;\n",
              "                    height: 400.0px;\n",
              "                    left: 0.0%;\n",
              "                    top: 0.0%;\n",
              "                }\n",
              "                .leaflet-container { font-size: 1rem; }\n",
              "            &lt;/style&gt;\n",
              "        \n",
              "&lt;/head&gt;\n",
              "&lt;body&gt;\n",
              "    \n",
              "    \n",
              "            &lt;div class=&quot;folium-map&quot; id=&quot;map_847ca0ce2679f7ca2ec0f59fb6f2dbea&quot; &gt;&lt;/div&gt;\n",
              "        \n",
              "&lt;/body&gt;\n",
              "&lt;script&gt;\n",
              "    \n",
              "    \n",
              "            var map_847ca0ce2679f7ca2ec0f59fb6f2dbea = L.map(\n",
              "                &quot;map_847ca0ce2679f7ca2ec0f59fb6f2dbea&quot;,\n",
              "                {\n",
              "                    center: [47.89580775, 16.245415489000663],\n",
              "                    crs: L.CRS.EPSG3857,\n",
              "                    zoom: 10,\n",
              "                    zoomControl: true,\n",
              "                    preferCanvas: false,\n",
              "                }\n",
              "            );\n",
              "\n",
              "            \n",
              "\n",
              "        \n",
              "    \n",
              "            var tile_layer_7d15b683ff782c42a5f0ea228f03ba14 = L.tileLayer(\n",
              "                &quot;https://{s}.tile.openstreetmap.org/{z}/{x}/{y}.png&quot;,\n",
              "                {&quot;attribution&quot;: &quot;Data by \\u0026copy; \\u003ca target=\\&quot;_blank\\&quot; href=\\&quot;http://openstreetmap.org\\&quot;\\u003eOpenStreetMap\\u003c/a\\u003e, under \\u003ca target=\\&quot;_blank\\&quot; href=\\&quot;http://www.openstreetmap.org/copyright\\&quot;\\u003eODbL\\u003c/a\\u003e.&quot;, &quot;detectRetina&quot;: false, &quot;maxNativeZoom&quot;: 18, &quot;maxZoom&quot;: 18, &quot;minZoom&quot;: 0, &quot;noWrap&quot;: false, &quot;opacity&quot;: 1, &quot;subdomains&quot;: &quot;abc&quot;, &quot;tms&quot;: false}\n",
              "            ).addTo(map_847ca0ce2679f7ca2ec0f59fb6f2dbea);\n",
              "        \n",
              "    \n",
              "            var marker_03330c1d07ad92f1fc14cb90d171759c = L.marker(\n",
              "                [47.89580775, 16.245415489000663],\n",
              "                {}\n",
              "            ).addTo(map_847ca0ce2679f7ca2ec0f59fb6f2dbea);\n",
              "        \n",
              "    \n",
              "        var popup_da77bfc11ec4004d09e8696aac73f8ae = L.popup({&quot;maxWidth&quot;: &quot;100%&quot;});\n",
              "\n",
              "        \n",
              "            \n",
              "                var html_1cba5c6d034703de35386ede047430f0 = $(`&lt;div id=&quot;html_1cba5c6d034703de35386ede047430f0&quot; style=&quot;width: 100.0%; height: 100.0%;&quot;&gt;Italian postcode&lt;/div&gt;`)[0];\n",
              "                popup_da77bfc11ec4004d09e8696aac73f8ae.setContent(html_1cba5c6d034703de35386ede047430f0);\n",
              "            \n",
              "        \n",
              "\n",
              "        marker_03330c1d07ad92f1fc14cb90d171759c.bindPopup(popup_da77bfc11ec4004d09e8696aac73f8ae)\n",
              "        ;\n",
              "\n",
              "        \n",
              "    \n",
              "    \n",
              "            var marker_b3b5a827c446640400399eda30fe62eb = L.marker(\n",
              "                [55.82523, -4.2532],\n",
              "                {}\n",
              "            ).addTo(map_847ca0ce2679f7ca2ec0f59fb6f2dbea);\n",
              "        \n",
              "    \n",
              "        var popup_45b6b38716eb8aab315acf00b3c2a38d = L.popup({&quot;maxWidth&quot;: &quot;100%&quot;});\n",
              "\n",
              "        \n",
              "            \n",
              "                var html_5469f6e6dafd108832d574048bfce7e7 = $(`&lt;div id=&quot;html_5469f6e6dafd108832d574048bfce7e7&quot; style=&quot;width: 100.0%; height: 100.0%;&quot;&gt;Glasgow postcode&lt;/div&gt;`)[0];\n",
              "                popup_45b6b38716eb8aab315acf00b3c2a38d.setContent(html_5469f6e6dafd108832d574048bfce7e7);\n",
              "            \n",
              "        \n",
              "\n",
              "        marker_b3b5a827c446640400399eda30fe62eb.bindPopup(popup_45b6b38716eb8aab315acf00b3c2a38d)\n",
              "        ;\n",
              "\n",
              "        \n",
              "    \n",
              "    \n",
              "            var poly_line_d1363966b4f902d4a8dd22136db3ac76 = L.polyline(\n",
              "                [[55.82523, -4.2532], [47.89580775, 16.245415489000663]],\n",
              "                {&quot;bubblingMouseEvents&quot;: true, &quot;color&quot;: &quot;#3388ff&quot;, &quot;dashArray&quot;: null, &quot;dashOffset&quot;: null, &quot;fill&quot;: false, &quot;fillColor&quot;: &quot;#3388ff&quot;, &quot;fillOpacity&quot;: 0.2, &quot;fillRule&quot;: &quot;evenodd&quot;, &quot;lineCap&quot;: &quot;round&quot;, &quot;lineJoin&quot;: &quot;round&quot;, &quot;noClip&quot;: false, &quot;opacity&quot;: 1.0, &quot;smoothFactor&quot;: 1.0, &quot;stroke&quot;: true, &quot;weight&quot;: 3}\n",
              "            ).addTo(map_847ca0ce2679f7ca2ec0f59fb6f2dbea);\n",
              "        \n",
              "&lt;/script&gt;\n",
              "&lt;/html&gt;\" style=\"position:absolute;width:100%;height:100%;left:0;top:0;border:none !important;\" allowfullscreen webkitallowfullscreen mozallowfullscreen></iframe></div></div>"
            ]
          },
          "metadata": {},
          "execution_count": 7
        }
      ]
    },
    {
      "cell_type": "code",
      "source": [
        "from geopy.distance import distance\n",
        "km=distance(location,location2)\n",
        "miles=distance(location,location2).miles\n",
        "km,miles"
      ],
      "metadata": {
        "colab": {
          "base_uri": "https://localhost:8080/"
        },
        "id": "Y9csc64t-w5g",
        "outputId": "6b2e0dae-fce9-43a4-e54d-9a000086a58d"
      },
      "execution_count": null,
      "outputs": [
        {
          "output_type": "execute_result",
          "data": {
            "text/plain": [
              "(Distance(1655.5266823661243), 1028.6965884025567)"
            ]
          },
          "metadata": {},
          "execution_count": 8
        }
      ]
    }
  ]
}