{
  "nbformat": 4,
  "nbformat_minor": 0,
  "metadata": {
    "colab": {
      "provenance": [],
      "authorship_tag": "ABX9TyP2hfpkRzY+ycS/Sx7WVEIa",
      "include_colab_link": true
    },
    "kernelspec": {
      "name": "python3",
      "display_name": "Python 3"
    },
    "language_info": {
      "name": "python"
    }
  },
  "cells": [
    {
      "cell_type": "markdown",
      "metadata": {
        "id": "view-in-github",
        "colab_type": "text"
      },
      "source": [
        "<a href=\"https://colab.research.google.com/github/naseri2023/naseri/blob/main/Untitled0.ipynb\" target=\"_parent\"><img src=\"https://colab.research.google.com/assets/colab-badge.svg\" alt=\"Open In Colab\"/></a>"
      ]
    },
    {
      "cell_type": "code",
      "execution_count": null,
      "metadata": {
        "id": "QKxzHxEVq2ba"
      },
      "outputs": [],
      "source": [
        "import requests\n",
        "from pprint import pprint"
      ]
    },
    {
      "cell_type": "code",
      "source": [
        "Base_url=\"https://nominatim.openstreetmap.org/search?format=json\""
      ],
      "metadata": {
        "id": "9NvFYbYRrRrO"
      },
      "execution_count": null,
      "outputs": []
    },
    {
      "cell_type": "code",
      "source": [
        "postcode=\"G42 9AY\"\n",
        "response=requests.get(f\"{Base_url}&postalcode={postcode}\")\n",
        "data=response.json()\n"
      ],
      "metadata": {
        "id": "OXw1ErBUriAx"
      },
      "execution_count": null,
      "outputs": []
    },
    {
      "cell_type": "code",
      "source": [
        "latitude=data[0].get(\"lat\")\n",
        "longitude=data[0].get(\"lon\")\n",
        "(latitude,longitude)"
      ],
      "metadata": {
        "id": "el4wgmnPuONc"
      },
      "execution_count": null,
      "outputs": []
    },
    {
      "cell_type": "code",
      "source": [
        "zipcode=\"2601\"\n",
        "response=requests.get(f\"{Base_url}&postalcode={zipcode}&contry=italia\")\n",
        "data=response.json()\n",
        "latitude2=data[0].get(\"lat\")\n",
        "longitude2=data[0].get(\"lon\")\n",
        "(latitude2,longitude2)"
      ],
      "metadata": {
        "id": "9IUz40Omx7ps"
      },
      "execution_count": null,
      "outputs": []
    },
    {
      "cell_type": "code",
      "source": [
        "import folium\n",
        "location=float(latitude),float(longitude)\n",
        "location2=float(latitude2),float(longitude2)\n",
        "m=folium.Map(location=location2,width=900,height=400)\n",
        "folium.Marker(location2,popup=\"Italian postcode\").add_to(m)\n",
        "folium.Marker(location,popup=\"Glasgow postcode\").add_to(m)\n",
        "folium.PolyLine((location,location2)).add_to(m)\n",
        "m"
      ],
      "metadata": {
        "id": "0vCsgLU34uFx"
      },
      "execution_count": null,
      "outputs": []
    },
    {
      "cell_type": "code",
      "source": [
        "from geopy.distance import distance\n",
        "km=distance(location,location2)\n",
        "miles=distance(location,location2).miles\n",
        "km,miles"
      ],
      "metadata": {
        "colab": {
          "base_uri": "https://localhost:8080/"
        },
        "id": "Y9csc64t-w5g",
        "outputId": "8ce74c30-8ad0-4f84-dda2-2476b692ea2d"
      },
      "execution_count": 44,
      "outputs": [
        {
          "output_type": "execute_result",
          "data": {
            "text/plain": [
              "(Distance(1655.5266823661243), 1028.6965884025567)"
            ]
          },
          "metadata": {},
          "execution_count": 44
        }
      ]
    }
  ]
}